{
 "cells": [
  {
   "cell_type": "markdown",
   "metadata": {},
   "source": [
    "# Linear Regression Challenge\n",
    "\n",
    "**OBJECTIVES**\n",
    "\n",
    "- Examine relationships between predictor and target variables using `LinearRegression` class from sklearn\n",
    "- Describe relationship between one input and one predictor variable in terms of **RMSE**\n",
    "- Describe the relationship between multiple input variables in terms of **RMSE** and explain what this means for your model?  Is it better or worse?\n",
    "- Add in polynomial features using the `make_pipeline` function.\n"
   ]
  },
  {
   "cell_type": "code",
   "execution_count": 1,
   "metadata": {},
   "outputs": [
    {
     "name": "stdout",
     "output_type": "stream",
     "text": [
      "Collecting quilt\n",
      "  Downloading https://files.pythonhosted.org/packages/c1/76/a0c3e839dde7acbd650186e767726bc2b05237b3284273e2e5358423da7b/quilt-2.9.6-py3-none-any.whl (99kB)\n",
      "Requirement already satisfied: requests>=2.12.4 in /Users/mmann/anaconda3/lib/python3.6/site-packages (from quilt)\n",
      "Requirement already satisfied: xlrd>=1.0.0 in /Users/mmann/anaconda3/lib/python3.6/site-packages (from quilt)\n",
      "Requirement already satisfied: six>=1.10.0 in /Users/mmann/anaconda3/lib/python3.6/site-packages (from quilt)\n",
      "Requirement already satisfied: pyyaml>=3.12 in /Users/mmann/anaconda3/lib/python3.6/site-packages (from quilt)\n",
      "Requirement already satisfied: pandas>=0.19.2 in /Users/mmann/anaconda3/lib/python3.6/site-packages (from quilt)\n",
      "Collecting tqdm>=4.11.2 (from quilt)\n",
      "  Downloading https://files.pythonhosted.org/packages/93/24/6ab1df969db228aed36a648a8959d1027099ce45fad67532b9673d533318/tqdm-4.23.4-py2.py3-none-any.whl (42kB)\n",
      "Collecting future>=0.16.0 (from quilt)\n",
      "  Downloading https://files.pythonhosted.org/packages/00/2b/8d082ddfed935f3608cc61140df6dcbf0edea1bc3ab52fb6c29ae3e81e85/future-0.16.0.tar.gz (824kB)\n",
      "Collecting appdirs>=1.4.0 (from quilt)\n",
      "  Downloading https://files.pythonhosted.org/packages/56/eb/810e700ed1349edde4cbdc1b2a21e28cdf115f9faf263f6bbf8447c1abf3/appdirs-1.4.3-py2.py3-none-any.whl\n",
      "Requirement already satisfied: packaging>=16.8 in /Users/mmann/anaconda3/lib/python3.6/site-packages (from quilt)\n",
      "Collecting pyarrow<0.8.0,>=0.4.0 (from quilt)\n",
      "  Downloading https://files.pythonhosted.org/packages/b4/3c/3b8ae2d3ec9bb64c2d5000194c81274cb5bf216d3bb24c9bccc8e589a67a/pyarrow-0.7.1-cp36-cp36m-macosx_10_6_intel.whl (6.4MB)\n",
      "Requirement already satisfied: chardet<3.1.0,>=3.0.2 in /Users/mmann/anaconda3/lib/python3.6/site-packages (from requests>=2.12.4->quilt)\n",
      "Requirement already satisfied: idna<2.7,>=2.5 in /Users/mmann/anaconda3/lib/python3.6/site-packages (from requests>=2.12.4->quilt)\n",
      "Requirement already satisfied: urllib3<1.23,>=1.21.1 in /Users/mmann/anaconda3/lib/python3.6/site-packages (from requests>=2.12.4->quilt)\n",
      "Requirement already satisfied: certifi>=2017.4.17 in /Users/mmann/anaconda3/lib/python3.6/site-packages (from requests>=2.12.4->quilt)\n",
      "Requirement already satisfied: python-dateutil>=2 in /Users/mmann/anaconda3/lib/python3.6/site-packages (from pandas>=0.19.2->quilt)\n",
      "Requirement already satisfied: pytz>=2011k in /Users/mmann/anaconda3/lib/python3.6/site-packages (from pandas>=0.19.2->quilt)\n",
      "Requirement already satisfied: numpy>=1.9.0 in /Users/mmann/anaconda3/lib/python3.6/site-packages (from pandas>=0.19.2->quilt)\n",
      "Requirement already satisfied: pyparsing in /Users/mmann/anaconda3/lib/python3.6/site-packages (from packaging>=16.8->quilt)\n",
      "Building wheels for collected packages: future\n",
      "  Running setup.py bdist_wheel for future: started\n",
      "  Running setup.py bdist_wheel for future: finished with status 'done'\n",
      "  Stored in directory: /Users/mmann/Library/Caches/pip/wheels/bf/c9/a3/c538d90ef17cf7823fa51fc701a7a7a910a80f6a405bf15b1a\n",
      "Successfully built future\n",
      "Installing collected packages: tqdm, future, appdirs, pyarrow, quilt\n",
      "Successfully installed appdirs-1.4.3 future-0.16.0 pyarrow-0.7.1 quilt-2.9.6 tqdm-4.23.4\n",
      "Downloading package metadata...\n",
      "Downloading 1 fragments (378723 bytes before compression)...\n"
     ]
    },
    {
     "name": "stderr",
     "output_type": "stream",
     "text": [
      "You are using pip version 9.0.1, however version 10.0.1 is available.\n",
      "You should consider upgrading via the 'pip install --upgrade pip' command.\n",
      "\r",
      "  0%|          | 0.00/379k [00:00<?, ?B/s]\r",
      "  0%|          | 0.00/379k [00:00<?, ?B/s]\r",
      " 91%|█████████ | 345k/379k [00:00<00:00, 3.35MB/s]\r",
      "100%|██████████| 379k/379k [00:00<00:00, 1.04MB/s]\n"
     ]
    }
   ],
   "source": [
    "%%bash\n",
    "pip install quilt\n",
    "quilt install ResidentMario/missingno_data"
   ]
  },
  {
   "cell_type": "code",
   "execution_count": 2,
   "metadata": {},
   "outputs": [
    {
     "ename": "ModuleNotFoundError",
     "evalue": "No module named 'missingno'",
     "output_type": "error",
     "traceback": [
      "\u001b[0;31m---------------------------------------------------------------------------\u001b[0m",
      "\u001b[0;31mModuleNotFoundError\u001b[0m                       Traceback (most recent call last)",
      "\u001b[0;32m<ipython-input-2-74f8e347f364>\u001b[0m in \u001b[0;36m<module>\u001b[0;34m()\u001b[0m\n\u001b[0;32m----> 1\u001b[0;31m \u001b[0;32mimport\u001b[0m \u001b[0mmissingno\u001b[0m \u001b[0;32mas\u001b[0m \u001b[0mmsno\u001b[0m\u001b[0;34m\u001b[0m\u001b[0m\n\u001b[0m",
      "\u001b[0;31mModuleNotFoundError\u001b[0m: No module named 'missingno'"
     ]
    }
   ],
   "source": [
    "import missingno as msno"
   ]
  },
  {
   "cell_type": "code",
   "execution_count": 3,
   "metadata": {},
   "outputs": [
    {
     "name": "stdout",
     "output_type": "stream",
     "text": [
      "Solving environment: ...working... failed\n"
     ]
    },
    {
     "name": "stderr",
     "output_type": "stream",
     "text": [
      "\n",
      "PackagesNotFoundError: The following packages are not available from current channels:\n",
      "\n",
      "  - missingno\n",
      "\n",
      "Current channels:\n",
      "\n",
      "  - https://repo.continuum.io/pkgs/main/osx-64\n",
      "  - https://repo.continuum.io/pkgs/main/noarch\n",
      "  - https://repo.continuum.io/pkgs/free/osx-64\n",
      "  - https://repo.continuum.io/pkgs/free/noarch\n",
      "  - https://repo.continuum.io/pkgs/r/osx-64\n",
      "  - https://repo.continuum.io/pkgs/r/noarch\n",
      "  - https://repo.continuum.io/pkgs/pro/osx-64\n",
      "  - https://repo.continuum.io/pkgs/pro/noarch\n",
      "\n",
      "\n"
     ]
    }
   ],
   "source": [
    "%%bash\n",
    "conda install missingno"
   ]
  },
  {
   "cell_type": "code",
   "execution_count": null,
   "metadata": {},
   "outputs": [],
   "source": []
  }
 ],
 "metadata": {
  "kernelspec": {
   "display_name": "Python 3",
   "language": "python",
   "name": "python3"
  },
  "language_info": {
   "codemirror_mode": {
    "name": "ipython",
    "version": 3
   },
   "file_extension": ".py",
   "mimetype": "text/x-python",
   "name": "python",
   "nbconvert_exporter": "python",
   "pygments_lexer": "ipython3",
   "version": "3.6.4"
  }
 },
 "nbformat": 4,
 "nbformat_minor": 2
}
